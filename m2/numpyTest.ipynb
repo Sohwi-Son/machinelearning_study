{
 "cells": [
  {
   "cell_type": "code",
   "execution_count": 1,
   "id": "311eadf5-4369-4f30-93ba-ba18f6721939",
   "metadata": {},
   "outputs": [],
   "source": [
    "import numpy as np"
   ]
  },
  {
   "cell_type": "code",
   "execution_count": 2,
   "id": "38b98e94-d067-4330-9ec9-1a170a9b9ec3",
   "metadata": {},
   "outputs": [],
   "source": [
    "arr1 = np.array([0, 1, 3])"
   ]
  },
  {
   "cell_type": "code",
   "execution_count": 3,
   "id": "c89c1515-0b4a-47ef-b295-c0d200bc67d7",
   "metadata": {},
   "outputs": [
    {
     "name": "stdout",
     "output_type": "stream",
     "text": [
      "[0 1 3]\n",
      "(3,)\n",
      "[0 1 3]\n",
      "object type: <class 'numpy.ndarray'>\n",
      "  data type: int64\n",
      "      shape: (3,)\n",
      "  dimension: 1\n",
      " array size: 3\n"
     ]
    }
   ],
   "source": [
    "print(arr1)\n",
    "print(arr1.shape)\n",
    "\n",
    "print(f'{arr1}\\n{\"object type:\":>12} {type(arr1)}\\n{\"data type:\":>12} {arr1.dtype}\\n{\"shape:\":>12} \\\n",
    "{arr1.shape}\\n{\"dimension:\":>12} {arr1.ndim}\\n{\"array size:\":>12} {arr1.size}')"
   ]
  },
  {
   "cell_type": "code",
   "execution_count": 4,
   "id": "043b9cb4-2b62-4685-a7d2-19563bafe7f4",
   "metadata": {},
   "outputs": [],
   "source": [
    "arr2 = np.array([0,1,3])"
   ]
  },
  {
   "cell_type": "code",
   "execution_count": 5,
   "id": "0f047fcd-c01d-4682-bc9f-64b1f4e6f941",
   "metadata": {},
   "outputs": [
    {
     "name": "stdout",
     "output_type": "stream",
     "text": [
      "[0 2 6]\n"
     ]
    }
   ],
   "source": [
    "a = arr1 + arr2\n",
    "print(a)"
   ]
  },
  {
   "cell_type": "code",
   "execution_count": 6,
   "id": "aa20b302-9e42-47ab-ba47-28d299a5724c",
   "metadata": {},
   "outputs": [],
   "source": [
    "arr3 = np.array([10.0, 0, 1])"
   ]
  },
  {
   "cell_type": "code",
   "execution_count": 7,
   "id": "813978c9-da24-450a-88a4-5e139501074b",
   "metadata": {},
   "outputs": [
    {
     "name": "stdout",
     "output_type": "stream",
     "text": [
      "[10.  0.  1.]\n",
      "object type: <class 'numpy.ndarray'>\n",
      "  data type: float64\n",
      "      shape: (3,)\n",
      "  dimension: 1\n",
      " array size: 3\n"
     ]
    }
   ],
   "source": [
    "print(f'{arr3}\\n{\"object type:\":>12} {type(arr3)}\\n{\"data type:\":>12} {arr3.dtype}\\n{\"shape:\":>12} \\\n",
    "{arr3.shape}\\n{\"dimension:\":>12} {arr3.ndim}\\n{\"array size:\":>12} {arr3.size}')"
   ]
  }
 ],
 "metadata": {
  "kernelspec": {
   "display_name": "Python 3 (ipykernel)",
   "language": "python",
   "name": "python3"
  },
  "language_info": {
   "codemirror_mode": {
    "name": "ipython",
    "version": 3
   },
   "file_extension": ".py",
   "mimetype": "text/x-python",
   "name": "python",
   "nbconvert_exporter": "python",
   "pygments_lexer": "ipython3",
   "version": "3.11.0"
  }
 },
 "nbformat": 4,
 "nbformat_minor": 5
}
